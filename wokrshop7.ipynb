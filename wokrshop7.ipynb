{
  "nbformat": 4,
  "nbformat_minor": 0,
  "metadata": {
    "colab": {
      "provenance": [],
      "mount_file_id": "1YN8mZM4XYdtLBG5_pJxJ5Mn-7uTLg3ei",
      "authorship_tag": "ABX9TyP8SUHLEEVPG6uzfeYCreWz",
      "include_colab_link": true
    },
    "kernelspec": {
      "name": "python3",
      "display_name": "Python 3"
    },
    "language_info": {
      "name": "python"
    }
  },
  "cells": [
    {
      "cell_type": "markdown",
      "metadata": {
        "id": "view-in-github",
        "colab_type": "text"
      },
      "source": [
        "<a href=\"https://colab.research.google.com/github/princesapkota/3rdaiws7/blob/main/wokrshop7.ipynb\" target=\"_parent\"><img src=\"https://colab.research.google.com/assets/colab-badge.svg\" alt=\"Open In Colab\"/></a>"
      ]
    },
    {
      "cell_type": "code",
      "execution_count": 11,
      "metadata": {
        "id": "CPx8IAboZlFJ"
      },
      "outputs": [],
      "source": [
        "from sklearn.preprocessing import StandardScaler\n",
        "from sklearn.linear_model import Ridge, Lasso, LogisticRegression\n",
        "from sklearn.neighbors import KNeighborsClassifier\n",
        "from sklearn.metrics import accuracy_score, confusion_matrix, classification_report, mean_squared_error, r2_score\n",
        "from sklearn.pipeline import Pipeline\n",
        "from sklearn.feature_selection import SelectKBest, f_regression\n",
        "from sklearn.model_selection import train_test_split\n",
        "import pandas as pd"
      ]
    },
    {
      "cell_type": "code",
      "source": [
        "from google.colab import drive\n",
        "drive.mount('/content/drive')\n",
        "data = pd.read_csv('/content/drive/MyDrive/datasets/diabetes.csv')"
      ],
      "metadata": {
        "colab": {
          "base_uri": "https://localhost:8080/"
        },
        "id": "WmL43MYPZoh0",
        "outputId": "f6cd7718-3d71-472b-8c3e-348942d83b76"
      },
      "execution_count": 9,
      "outputs": [
        {
          "output_type": "stream",
          "name": "stdout",
          "text": [
            "Drive already mounted at /content/drive; to attempt to forcibly remount, call drive.mount(\"/content/drive\", force_remount=True).\n"
          ]
        }
      ]
    },
    {
      "cell_type": "code",
      "source": [
        "# Define features (X) and target (y) for regression\n",
        "X = data.drop(columns=['BloodPressure'])\n",
        "y = data['BloodPressure']\n",
        "\n",
        "# Split data into training and testing sets for regression\n",
        "X_train, X_test, y_train, y_test = train_test_split(X, y, test_size=0.2, random_state=42)\n",
        "\n",
        "# Step 1: Regression Task - Predict Blood Pressure\n",
        "# Feature Normalization and Feature Selection\n",
        "pipeline = Pipeline([\n",
        "    ('scaler', StandardScaler()),\n",
        "    ('feature_selection', SelectKBest(score_func=f_regression, k=5)),  # Select top 5 features\n",
        "    ('regressor', Ridge(alpha=1.0))  # Ridge regression with regularization\n",
        "])\n",
        "\n",
        "# Train the regression pipeline model\n",
        "pipeline.fit(X_train, y_train)\n",
        "\n",
        "# Make predictions for regression\n",
        "ridge_y_pred = pipeline.predict(X_test)\n",
        "\n",
        "# Evaluate the regression model\n",
        "ridge_mse = mean_squared_error(y_test, ridge_y_pred)\n",
        "ridge_r2 = r2_score(y_test, ridge_y_pred)\n",
        "\n",
        "# Step 2: Classification Task - Predict Diabetes Outcome\n",
        "# Define features and target for classification\n",
        "X_classification = data.drop(columns=['Outcome'])\n",
        "y_classification = data['Outcome']\n",
        "\n",
        "# Split the data for classification\n",
        "X_train_class, X_test_class, y_train_class, y_test_class = train_test_split(\n",
        "    X_classification, y_classification, test_size=0.2, random_state=42\n",
        ")\n",
        "\n",
        "# Logistic Regression Model\n",
        "logistic_model = Pipeline([\n",
        "    ('scaler', StandardScaler()),\n",
        "    ('classifier', LogisticRegression())\n",
        "])\n",
        "\n",
        "# Train Logistic Regression model\n",
        "logistic_model.fit(X_train_class, y_train_class)\n",
        "\n",
        "# Make predictions for Logistic Regression\n",
        "logistic_y_pred = logistic_model.predict(X_test_class)\n",
        "\n",
        "# Evaluate Logistic Regression model\n",
        "logistic_accuracy = accuracy_score(y_test_class, logistic_y_pred)\n",
        "logistic_report = classification_report(y_test_class, logistic_y_pred)\n",
        "\n",
        "# K-Nearest Neighbors Model\n",
        "knn_model = Pipeline([\n",
        "    ('scaler', StandardScaler()),\n",
        "    ('classifier', KNeighborsClassifier(n_neighbors=5))\n",
        "])\n",
        "\n",
        "# Train KNN model\n",
        "knn_model.fit(X_train_class, y_train_class)\n",
        "\n",
        "# Make predictions for KNN\n",
        "knn_y_pred = knn_model.predict(X_test_class)\n",
        "\n",
        "# Evaluate KNN model\n",
        "knn_accuracy = accuracy_score(y_test_class, knn_y_pred)\n",
        "knn_report = classification_report(y_test_class, knn_y_pred)\n",
        "\n",
        "ridge_mse, ridge_r2, logistic_accuracy, logistic_report, knn_accuracy, knn_report\n",
        "\n"
      ],
      "metadata": {
        "colab": {
          "base_uri": "https://localhost:8080/"
        },
        "id": "s7WHFjdGZ6NQ",
        "outputId": "7b09231a-3577-41c5-b5e6-abedf1341bbb"
      },
      "execution_count": 15,
      "outputs": [
        {
          "output_type": "execute_result",
          "data": {
            "text/plain": [
              "(409.843000367697,\n",
              " 0.180052069532728,\n",
              " 0.7532467532467533,\n",
              " '              precision    recall  f1-score   support\\n\\n           0       0.81      0.80      0.81        99\\n           1       0.65      0.67      0.66        55\\n\\n    accuracy                           0.75       154\\n   macro avg       0.73      0.74      0.73       154\\nweighted avg       0.76      0.75      0.75       154\\n',\n",
              " 0.6948051948051948,\n",
              " '              precision    recall  f1-score   support\\n\\n           0       0.75      0.80      0.77        99\\n           1       0.58      0.51      0.54        55\\n\\n    accuracy                           0.69       154\\n   macro avg       0.66      0.65      0.66       154\\nweighted avg       0.69      0.69      0.69       154\\n')"
            ]
          },
          "metadata": {},
          "execution_count": 15
        }
      ]
    },
    {
      "cell_type": "code",
      "source": [],
      "metadata": {
        "id": "Ppu8MZ41cnSJ"
      },
      "execution_count": null,
      "outputs": []
    }
  ]
}